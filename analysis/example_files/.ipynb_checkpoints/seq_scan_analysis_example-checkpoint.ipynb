{
 "cells": [
  {
   "cell_type": "code",
   "execution_count": null,
   "id": "6afde2c8-ece8-42c2-905d-253fa4c9b081",
   "metadata": {
    "tags": []
   },
   "outputs": [],
   "source": [
    "#Imports\n",
    "import sys\n",
    "sys.path.append(\"../\") #Path to seq_scan_analysis.py\n",
    "import seq_scan_class\n",
    "from seq_scan_class import *"
   ]
  },
  {
   "cell_type": "code",
   "execution_count": null,
   "id": "e0b2d358-584c-4170-999c-bd8b32be06fe",
   "metadata": {
    "tags": []
   },
   "outputs": [],
   "source": [
    "#Main\n",
    "\n",
    "if __name__ == \"__main__\":\n",
    "    \n",
    "    #Wild-type sequence\n",
    "    \n",
    "    fasta_paths=\"../../setup/example_files/\"\n",
    "    bait=\"LC3B.fasta\"\n",
    "    cand=\"FUNDC1.fasta\"\n",
    "    frag_path=\"./alphapulldown_output/\"\n",
    "\n",
    "\n",
    "    system1=seq_scan_system(fasta_paths, bait, cand, name_add=\"\", verbose=True)\n",
    "    system1.find_fragments(frag_path)\n",
    "    system1.read_fragments(frag_path, av_over_for_minPAE=5)\n",
    "    system1.calc_minmax()\n",
    "    system1.find_peaks(find_mode=\"fragment\")\n",
    "    system1.classify_peaks(frag_path, LC3=\"LC3B\")\n",
    "    system1.plot_minmax()\n",
    "    system1.write_peaks_to_csv(overwrite=True)\n",
    "    system1.calc_bait_rmsd(frag_path, LC3=\"LC3B\")\n",
    "    system1.plot_rmsf()\n",
    "    system1.plot_rmsd()\n",
    "    for peak in system1.peaks:\n",
    "        print(peak)\n",
    "\n",
    "    #Phosphomiemtic sequence \n",
    "    \n",
    "    fasta_paths=\"../../setup/example_files/\"\n",
    "    bait=\"LC3B.fasta\"\n",
    "    cand=\"FUNDC1-STphosmim.fasta\"\n",
    "    frag_path=\"./alphapulldown_output/\"\n",
    "\n",
    "    system2=seq_scan_system(fasta_paths, bait, cand, name_add=\"-STphosmim\", verbose=True)\n",
    "    system2.find_fragments(frag_path)\n",
    "    system2.read_fragments(frag_path, av_over_for_minPAE=5)\n",
    "    system2.calc_minmax()\n",
    "    system2.find_peaks(find_mode=\"fragment\")\n",
    "    system2.classify_peaks(frag_path, LC3=\"LC3B\")\n",
    "    system2.plot_minmax()\n",
    "    system2.write_peaks_to_csv(overwrite=True)\n",
    "    system2.calc_bait_rmsd(frag_path, LC3=\"LC3B\")\n",
    "    system2.plot_rmsf()\n",
    "    system2.plot_rmsd()\n",
    "    for peak in system2.peaks:\n",
    "        print(peak)\n",
    "\n",
    "    occ_data=get_occlusion_secstr(\"./FUNDC1_AF2.pdb\")\n",
    "\n",
    "    occ_depth_dic=get_occlusion_depth(\"./FUNDC1_AF2.pdb\")\n",
    "\n",
    "    plot_summary(system1, system2, \"LC3B_FUNDC1\", \"LC3B_FUNDC1_epST\", {\"ResDepth\": occ_depth_dic, \"SecStr\": occ_data}, \"both\")"
   ]
  },
  {
   "cell_type": "code",
   "execution_count": null,
   "id": "70b38504-6e38-49fb-8f4b-bcc25242ca9c",
   "metadata": {},
   "outputs": [],
   "source": []
  }
 ],
 "metadata": {
  "kernelspec": {
   "display_name": "LC3-LIR (py3)",
   "language": "python",
   "name": "lc3-lir"
  },
  "language_info": {
   "codemirror_mode": {
    "name": "ipython",
    "version": 3
   },
   "file_extension": ".py",
   "mimetype": "text/x-python",
   "name": "python",
   "nbconvert_exporter": "python",
   "pygments_lexer": "ipython3",
   "version": "3.10.9"
  }
 },
 "nbformat": 4,
 "nbformat_minor": 5
}
