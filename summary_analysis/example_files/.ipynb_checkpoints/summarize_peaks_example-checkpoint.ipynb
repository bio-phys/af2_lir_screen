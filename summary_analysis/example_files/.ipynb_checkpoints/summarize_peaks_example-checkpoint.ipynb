{
 "cells": [
  {
   "cell_type": "code",
   "execution_count": null,
   "id": "ca095886-4556-486a-b486-142472aa7b4e",
   "metadata": {},
   "outputs": [],
   "source": [
    "#Imports\n",
    "import sys\n",
    "sys.path.append(\"../\") #Path to seq_scan_summary.py\n",
    "import seq_scan_summary\n",
    "from seq_scan_summary import *"
   ]
  },
  {
   "cell_type": "code",
   "execution_count": null,
   "id": "a33be2fb-b2ea-45c2-9ee4-22fbbef54cff",
   "metadata": {},
   "outputs": [],
   "source": [
    "#Main\n",
    "\n",
    "if __name__ == \"__main__\":\n",
    "    \n",
    "    #Parameters\n",
    "\n",
    "    systems = [\"LC3B_FUNDC1\", \"LC3B_FUNDC1-STphosmim\"]\n",
    "    fragment_lengths = [16, 36, 52]\n",
    "    fragment_types=[\"WT_16\", \"ST_16\", \"WT_36\", \"ST_36\", \"WT_52\", \"ST_52\"]\n",
    "    #WT: wild-type\n",
    "    #ST: phosphomimetic sequence\n",
    "    \n",
    "    files={\"WT_16\": \"./analysis_output/sp_Q9GZQ8_MLP3B_HUMAN_and_sp_Q8IVP5_FUND1_HUMAN_16mers_peaks.csv\",\n",
    "           \"WT_36\": \"./analysis_output/sp_Q9GZQ8_MLP3B_HUMAN_and_sp_Q8IVP5_FUND1_HUMAN_36mers_peaks.csv\",\n",
    "           \"WT_52\": \"./analysis_output/sp_Q9GZQ8_MLP3B_HUMAN_and_sp_Q8IVP5_FUND1_HUMAN_52mers_peaks.csv\",\n",
    "           \"ST_16\": \"./analysis_output/sp_Q9GZQ8_MLP3B_HUMAN_and_sp_Q8IVP5_FUND1_HUMAN-STphosmim_16mers_peaks.csv\",\n",
    "           \"ST_36\": \"./analysis_output/sp_Q9GZQ8_MLP3B_HUMAN_and_sp_Q8IVP5_FUND1_HUMAN-STphosmim_36mers_peaks.csv\",\n",
    "           \"ST_52\": \"./analysis_output/sp_Q9GZQ8_MLP3B_HUMAN_and_sp_Q8IVP5_FUND1_HUMAN-STphosmim_52mers_peaks.csv\"\n",
    "          }\n",
    "    \n",
    "    names={\"WT_16\": \"sp_Q9GZQ8_MLP3B_HUMAN_and_sp_Q8IVP5_FUND1_HUMAN\",\n",
    "           \"WT_36\": \"sp_Q9GZQ8_MLP3B_HUMAN_and_sp_Q8IVP5_FUND1_HUMAN\",\n",
    "           \"WT_52\": \"sp_Q9GZQ8_MLP3B_HUMAN_and_sp_Q8IVP5_FUND1_HUMAN\",\n",
    "           \"ST_16\": \"sp_Q9GZQ8_MLP3B_HUMAN_and_sp_Q8IVP5_FUND1_HUMAN\",\n",
    "           \"ST_36\": \"sp_Q9GZQ8_MLP3B_HUMAN_and_sp_Q8IVP5_FUND1_HUMAN\",\n",
    "           \"ST_52\": \"sp_Q9GZQ8_MLP3B_HUMAN_and_sp_Q8IVP5_FUND1_HUMAN\"\n",
    "          }\n",
    "    \n",
    "    name_adds={\"WT_16\": (\"\", False),\n",
    "               \"WT_36\": (\"\", False),\n",
    "               \"WT_52\": (\"\", False),\n",
    "               \"ST_16\": (\"-STphosmim\", True),\n",
    "               \"ST_36\": (\"-STphosmim\", True),\n",
    "               \"ST_52\": (\"-STphosmim\", True)\n",
    "              }\n",
    "    \n",
    "    fragment_lengths = {\"WT_16\": 16,\n",
    "                        \"WT_36\": 36,\n",
    "                        \"WT_52\": 52,\n",
    "                        \"ST_16\": 16,\n",
    "                        \"ST_36\": 36,\n",
    "                        \"ST_52\": 52\n",
    "                       }\n",
    "\n",
    "    fragment_dirs={\"WT_16\": \"./empty_fragment_directories/alphapulldown_output/\",\n",
    "                   \"WT_36\": \"./empty_fragment_directories/alphapulldown_output/\",\n",
    "                   \"WT_52\": \"./empty_fragment_directories/alphapulldown_output/\",\n",
    "                   \"ST_16\": \"./empty_fragment_directories/alphapulldown_output/\",\n",
    "                   \"ST_36\": \"./empty_fragment_directories/alphapulldown_output/\",\n",
    "                   \"ST_52\": \"./empty_fragment_directories/alphapulldown_output/\"\n",
    "                  } #Normally this would link to the proper alphapulldown output. In this example all files are removde from within the subdirectories to save space\n",
    "    #Run\n",
    "    \n",
    "    peak_list=[]\n",
    "    for frag_type in files.keys():\n",
    "        peak_list=peak_list+read_features_from_csv(files[frag_type], frag_type)\n",
    "    uni_peaks=summarize_peaks(peak_list, fragment_types)\n",
    "    up_uni_peaks=add_relative_occurences(unique_peaks=uni_peaks, frag_types=fragment_types, frag_names=names, frag_name_adds=name_adds, frag_dirs=fragment_dirs, frag_lens=fragment_lengths)\n",
    "    plot_peak_summary(up_uni_peaks, fragment_types, \"_\".join(systems)+\"_summary.png\", use_n_first_peaks=5, sort_by=\"self\", sorters=[(4,6),(2,4),(0,2)]) #Sort by 52mers first, then by 36mers, then by 16mers"
   ]
  },
  {
   "cell_type": "code",
   "execution_count": null,
   "id": "a42ec945-dcf6-4c1b-8f8e-a94fdbab8d12",
   "metadata": {},
   "outputs": [],
   "source": []
  },
  {
   "cell_type": "code",
   "execution_count": null,
   "id": "69741f52-3e47-450c-bf86-405c8be27ede",
   "metadata": {},
   "outputs": [],
   "source": []
  }
 ],
 "metadata": {
  "kernelspec": {
   "display_name": "LC3-LIR (py3)",
   "language": "python",
   "name": "lc3-lir"
  },
  "language_info": {
   "codemirror_mode": {
    "name": "ipython",
    "version": 3
   },
   "file_extension": ".py",
   "mimetype": "text/x-python",
   "name": "python",
   "nbconvert_exporter": "python",
   "pygments_lexer": "ipython3",
   "version": "3.10.9"
  }
 },
 "nbformat": 4,
 "nbformat_minor": 5
}
